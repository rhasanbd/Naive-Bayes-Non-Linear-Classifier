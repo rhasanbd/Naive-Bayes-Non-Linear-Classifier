{
 "cells": [
  {
   "cell_type": "markdown",
   "metadata": {},
   "source": [
    "# Naive Bayes - Non-Linear Classifier\n",
    "\n",
    "In this notebook we investigate the fact that Naive Bayes Classifier (NBC) is a **<font color=red size=6> non-linear classifier </font>** by observing its decision boundary. It can classify non-linear dataset by creating non-inear decision boundary. It doesn't need to augment the dataset (i.e., creating high-dimensional features).\n",
    "\n",
    "Previously we observed that K-Nearest Neighbors (K-NN) is also a non-linear classifier.\n",
    "\n",
    "However, K-NN was a **non-parametric** model, whereas NBC is a **parametric** model. \n",
    "\n",
    "We compare the NBC decision boundary with **K-NN** and **Logistic Regression** decision boundaries.\n",
    "\n",
    "Our goal is to show that for a non-linear dataset, the NBC and K-NN models can \"learn\" very complex (non-linear) decision boundary, while Logistic Regression can only create a linear decision boundary.\n",
    "\n",
    "- NBC and K-NN are inherently non-linear models.\n",
    "- Logistic Regression is inherently a linear model."
   ]
  },
  {
   "cell_type": "code",
   "execution_count": 1,
   "metadata": {},
   "outputs": [],
   "source": [
    "import warnings\n",
    "import numpy as np\n",
    "import matplotlib.pyplot as plt\n",
    "%matplotlib inline\n",
    "\n",
    "\n",
    "from sklearn.datasets import make_circles\n",
    "from sklearn.neighbors import KNeighborsClassifier\n",
    "from sklearn.linear_model import LogisticRegression\n",
    "from sklearn.naive_bayes import GaussianNB\n",
    "from sklearn.model_selection import train_test_split, GridSearchCV, cross_val_score, cross_val_predict\n",
    "from sklearn.metrics import confusion_matrix, precision_score, recall_score, f1_score, classification_report"
   ]
  },
  {
   "cell_type": "markdown",
   "metadata": {},
   "source": [
    "\n",
    "# Synthetic Dataset\n",
    "\n",
    "We will use Scikit-Learn's \"datasets.make_circles\" function to generate a synthetic non-linear dataset that is suitable for investigating classification (as well as clustering) models. It creates a large circle containing a smaller circle in 2d.\n",
    "\n",
    "The following two parameters are used by the make_circles function:\n",
    "\n",
    "- factor : Scale factor between inner and outer circle. Range 0 ~ 1.\n",
    "\n",
    "- noise : Standard deviation of Gaussian noise added to the data."
   ]
  },
  {
   "cell_type": "markdown",
   "metadata": {},
   "source": [
    "## Load The Data and Visualiize "
   ]
  },
  {
   "cell_type": "code",
   "execution_count": 2,
   "metadata": {},
   "outputs": [
    {
     "data": {
      "image/png": "[encoded data removed]",
      "text/plain": [
       "<Figure size 864x432 with 1 Axes>"
      ]
     },
     "metadata": {},
     "output_type": "display_data"
    }
   ],
   "source": [
    "X, y = make_circles(n_samples=600, factor = 0.1, noise=0.3, random_state=0)\n",
    "\n",
    "plt.figure(figsize=(12, 6))\n",
    "plt.plot(X[y.ravel()==0, 0], X[y.ravel()==0, 1], \"ro\")\n",
    "plt.plot(X[y.ravel()==1, 0], X[y.ravel()==1, 1], \"yo\")\n",
    "plt.title(\"Data Distribution\", fontsize=16)\n",
    "plt.xlabel(\"$x_1$\", fontsize=14)\n",
    "plt.ylabel(\"$x_2$\", fontsize=14)\n",
    "plt.xticks(())\n",
    "plt.yticks(())\n",
    "plt.show()"
   ]
  },
  {
   "cell_type": "markdown",
   "metadata": {},
   "source": [
    "# Create Train and Test Dataset\n",
    "\n",
    "We use sklearn's train_test_split function to spilt the dataset into training and test subsets. The data is shuffled by default before splitting.\n",
    "\n",
    "This function splits arrays or matrices into **random** train and test subsets.\n",
    "\n",
    "For the **reproducibility of the results**, we need to use the same seed for the random number generator. The seed is set by the \"random_state\" parameter of the split function. \n",
    "\n",
    "However, in repeated experiments if we don't want to use the same train and test subsets, then we drop the \"random_state\" parameter from the funtion."
   ]
  },
  {
   "cell_type": "code",
   "execution_count": 3,
   "metadata": {},
   "outputs": [
    {
     "name": "stdout",
     "output_type": "stream",
     "text": [
      "(480, 2)\n",
      "(120, 2)\n",
      "(480,)\n",
      "(120,)\n"
     ]
    }
   ],
   "source": [
    "# Spilt the dataset into training and test dataset\n",
    "X_train, X_test, y_train, y_test = train_test_split(X, y, test_size=0.2, random_state=0)\n",
    "\n",
    "print(X_train.shape)\n",
    "print(X_test.shape)\n",
    "print(y_train.shape)\n",
    "print(y_test.shape)"
   ]
  },
  {
   "cell_type": "markdown",
   "metadata": {},
   "source": [
    "# Function for Plotting Decision Bounday \n",
    "\n",
    "\n",
    "To better understand how the K Nearest Neighbors model classifier performs classifiation, we need to **<font color=red size=6> visualize </font>** its decision boundary.\n",
    "\n",
    "\n",
    "We define the function \"decision_boundary_class_colored\" to plot the decision boundary. "
   ]
  },
  {
   "cell_type": "code",
   "execution_count": 4,
   "metadata": {},
   "outputs": [],
   "source": [
    "def decision_boundary_class_colored(clf, X, plotDistanceFromHyperplane=False, colorBar=False):\n",
    "    \n",
    "    # Get the min and max value of feature x1\n",
    "    x1min, x1max = X[:,0].min() - 0.1, X[:, 0].max() + 0.1\n",
    "    \n",
    "    # Get the min and max value of feature x2\n",
    "    x2min, x2max = X[:,1].min() - 0.1, X[:, 1].max() + 0.1\n",
    "    \n",
    "    # Create the mesh grid\n",
    "    x1s = np.linspace(x1min, x1max, 100)\n",
    "    x2s = np.linspace(x2min, x2max, 100)\n",
    "    x1, x2 = np.meshgrid(x1s, x2s)\n",
    "    \n",
    "    \n",
    "    # Create pairs of new points from the grid\n",
    "    X_new = np.c_[x1.ravel(), x2.ravel()]\n",
    "    \n",
    "    \n",
    "    # Compute the class predictions for all new points\n",
    "    y_pred = clf.predict(X_new).reshape(x1.shape)\n",
    "    \n",
    "    \n",
    "    # Generate the contourf plot for the predictions\n",
    "    plt.contourf(x1, x2, y_pred, cmap=plt.cm.binary, alpha=0.8)\n",
    "    \n",
    "    \n",
    "    if(plotDistanceFromHyperplane == True):\n",
    "    \n",
    "        # Compute the signed distance of a sample to the hyperplane for all new points\n",
    "        y_decision = clf.decision_function(X_new).reshape(x1.shape)\n",
    "\n",
    "        # Generate the contourf plot for the distance of all points from the hyperplane\n",
    "        plt.contourf(x1, x2, y_decision, cmap=plt.cm.bwr, alpha=0.2)\n",
    "    \n",
    "    if(colorBar==True):\n",
    "        plt.colorbar()\n",
    "    "
   ]
  },
  {
   "cell_type": "markdown",
   "metadata": {},
   "source": [
    "## K-NN Model Selection\n",
    "\n",
    "A K-NN model is defined by a set of parameters: nearest neighbors (K), distance metric (p), etc. These are called **hyperparameters**. We need to select the best model based on the optimal values of these hyperparameters. This process is called hyperparameter tuning.\n",
    "\n",
    "The model parameters are known as **hyperparameters** because the values of these parameters are used to control the learning process. By contrast, the values of other parameters are learned. In the K-NN model there is no learning, thus we only tune the hyperparameters to create the optimal model\n",
    "\n",
    "Hyperparameters are are passed as arguments to the constructor of the estimator classes. We search the hyperparameter space for the best cross validation score.\n",
    "\n",
    "\n",
    "### Hyperparameter Tuning\n",
    "\n",
    "The best way to do hyperparameter tuning is to use cross-validation.\n",
    "\n",
    "We will use Scikit-Learn’s **GridSearchCV** to search the combinations of hyperparameter values that provide the best performance.\n",
    "\n",
    "We need to tell which hyperparameters we want the GridSearchCV to experiment with, and what values to try out. It will evaluate all the possible combinations of hyperparameter values, using cross-validation. \n",
    "\n",
    "We will tune the following hyperparameters of the GridSearchCV model.\n",
    "\n",
    "- n_neighbors \n",
    "- weights \n",
    "- p \n",
    "    \n",
    "\n",
    "\n",
    "### GridSearchCV Parameters\n",
    "\n",
    "Following are the most frequenly used parameters by GridSearchCV.\n",
    "\n",
    "- estimator : estimator object. This is assumed to implement the scikit-learn estimator interface. Either estimator needs to provide a score function, or scoring must be passed.\n",
    "\n",
    "- param_grid : Dictionary with parameters names (string) as keys and lists of parameter settings to try as values, or a list of such dictionaries, in which case the grids spanned by each dictionary in the list are explored. This enables searching over any sequence of parameter settings.\n",
    "\n",
    "- scoring : string, callable, list/tuple, dict or None, default: None\n",
    "\n",
    "    -- A single string (see The scoring parameter: defining model evaluation rules) or a callable (see Defining your scoring strategy from metric functions) to evaluate the predictions on the test set.\n",
    "\n",
    "\n",
    "- n_jobs : int or None, optional (default=None). Number of jobs to run in parallel. \n",
    "\n",
    "    -- n_jobs= None means 1 unless in a joblib.parallel_backend context. \n",
    "   \n",
    "    -- n_jobs = -1 means using all processors. \n",
    "\n",
    "- cv : int. Determines the cross-validation splitting strategy. None, to use the default 3-fold cross validation.\n",
    "\n",
    "- verbose : integer. Controls the verbosity: the higher, the more messages.\n",
    "\n",
    "\n",
    "### Note: the scoring function\n",
    "\n",
    "The GridSearchCV takes an argument to define the scoring metric (performance measure). \n",
    "\n",
    "See the list of possible scoring functions:\n",
    "https://scikit-learn.org/stable/modules/model_evaluation.html#scoring-parameter\n",
    "\n",
    "For multiclass classification, we may use \"f1_micro\" scoring function. The f1_micro function is the average of the F1 score of each class with weighting depending on the average parameter.\n",
    "\n",
    "In the binary classification, f1 score function can be used. We may also use the precision, recall, roc_auc functions.\n",
    "\n",
    "\n",
    "\n",
    "### Note: Experimenting with the Mahalanobis Distance Metric\n",
    "\n",
    "Note that we cannot use the Mahalanobis distance metric as a parameter for the grid search.\n",
    "\n",
    "Because for each iteration of the cross-validation, a new train fold is created which requires to compute the inverse of its covariance matrix.\n",
    "\n",
    "With the sklearn grid search we cannot compute the inverse of the covariance matrix dynamically for each training fold.\n",
    "\n",
    "Thus, unfortunately, we can't experiment with the Mahalanobis distance metric using the grid search.\n"
   ]
  },
  {
   "cell_type": "code",
   "execution_count": 5,
   "metadata": {},
   "outputs": [
    {
     "name": "stdout",
     "output_type": "stream",
     "text": [
      "Fitting 5 folds for each of 288 candidates, totalling 1440 fits\n"
     ]
    },
    {
     "name": "stderr",
     "output_type": "stream",
     "text": [
      "[Parallel(n_jobs=-1)]: Using backend LokyBackend with 8 concurrent workers.\n",
      "[Parallel(n_jobs=-1)]: Done  16 tasks      | elapsed:    2.0s\n"
     ]
    },
    {
     "name": "stdout",
     "output_type": "stream",
     "text": [
      "Best Score: 0.927225\n",
      "Optimal Hyperparameter Values:  {'n_neighbors': 5, 'p': 1, 'weights': 'uniform'}\n",
      "\n",
      "\n",
      "CPU times: user 943 ms, sys: 108 ms, total: 1.05 s\n",
      "Wall time: 3.62 s\n"
     ]
    },
    {
     "name": "stderr",
     "output_type": "stream",
     "text": [
      "[Parallel(n_jobs=-1)]: Done 1440 out of 1440 | elapsed:    3.6s finished\n"
     ]
    }
   ],
   "source": [
    "%%time\n",
    "\n",
    "warnings.filterwarnings('ignore')\n",
    "\n",
    "\n",
    "# The param_grid tells Scikit-Learn to evaluate all combinations of the hyperparameter values \n",
    "param_grid = {'n_neighbors': np.arange(1, 37, 2), 'p': [1, 2, 5, 10, 20, 30, 50, 100], \n",
    "              'weights': [\"uniform\", \"distance\"]}\n",
    "\n",
    "knn_clf = KNeighborsClassifier()\n",
    "\n",
    "knn_cv = GridSearchCV(knn_clf, param_grid, scoring='f1', cv=5, verbose=3, n_jobs=-1)\n",
    "knn_cv.fit(X_train, y_train)\n",
    "\n",
    "\n",
    "params_optimal_knn = knn_cv.best_params_\n",
    "\n",
    "print(\"Best Score: %f\" % knn_cv.best_score_)\n",
    "print(\"Optimal Hyperparameter Values: \", params_optimal_knn)\n",
    "print(\"\\n\")"
   ]
  },
  {
   "cell_type": "markdown",
   "metadata": {},
   "source": [
    "## K-NN: Select The Best Model \n",
    "\n",
    "Using the optimal hyperparameter values, create the best model.\n",
    "Then, fit the model."
   ]
  },
  {
   "cell_type": "code",
   "execution_count": 6,
   "metadata": {},
   "outputs": [
    {
     "name": "stdout",
     "output_type": "stream",
     "text": [
      "\n",
      "Training Accuracy:  0.9395833333333333\n"
     ]
    }
   ],
   "source": [
    "knn = KNeighborsClassifier(**params_optimal_knn)\n",
    "knn.fit(X_train, y_train) \n",
    "\n",
    "\n",
    "y_train_predicted = knn.predict(X_train)\n",
    "#print(y_test_predict)\n",
    "\n",
    "train_accuracy_knn = np.mean(y_train_predicted == y_train)\n",
    "print(\"\\nTraining Accuracy: \", train_accuracy_knn)"
   ]
  },
  {
   "cell_type": "markdown",
   "metadata": {},
   "source": [
    "## K-NN: Evaluate The Model Using Test Data\n",
    "\n",
    "The KNeighborsClassifier model has a default \"score\" function that computes the accuracy of the model.\n",
    "\n",
    "Often times the accuracy is not a good measure.\n",
    "\n",
    "We also compute the other performance measures, such as the confusion matrix, precision, recall, and the F1 score for the test data."
   ]
  },
  {
   "cell_type": "markdown",
   "metadata": {},
   "source": [
    "## K-NN: Confusion Matrix for Test Data"
   ]
  },
  {
   "cell_type": "code",
   "execution_count": 7,
   "metadata": {},
   "outputs": [
    {
     "name": "stdout",
     "output_type": "stream",
     "text": [
      "\n",
      "Test Accuracy:  0.9\n",
      "\n",
      "No. of correct predictions (Test): 108/120\n",
      "\n",
      "Confusion Matrix (Test Data):\n",
      " [[55  7]\n",
      " [ 5 53]]\n",
      "\n",
      "Classification Report:\n",
      "              precision    recall  f1-score   support\n",
      "\n",
      "           0       0.92      0.89      0.90        62\n",
      "           1       0.88      0.91      0.90        58\n",
      "\n",
      "    accuracy                           0.90       120\n",
      "   macro avg       0.90      0.90      0.90       120\n",
      "weighted avg       0.90      0.90      0.90       120\n",
      "\n"
     ]
    }
   ],
   "source": [
    "# The accuracy of the model\n",
    "test_accuracy_knn = knn.score(X_test, y_test)\n",
    "print(\"\\nTest Accuracy: \", test_accuracy_knn)\n",
    "\n",
    "\n",
    "\n",
    "# No. of Correct Predictions\n",
    "y_test_predicted = knn.predict(X_test)\n",
    "print(\"\\nNo. of correct predictions (Test): %d/%d\" % (np.sum(y_test_predicted == y_test), len(y_test)))\n",
    "\n",
    "\n",
    "\n",
    "# Confusion Matrix\n",
    "print(\"\\nConfusion Matrix (Test Data):\\n\", confusion_matrix(y_test, y_test_predicted))\n",
    "\n",
    "\n",
    "print(\"\\nClassification Report:\")\n",
    "print(classification_report(y_test, y_test_predicted))"
   ]
  },
  {
   "cell_type": "markdown",
   "metadata": {},
   "source": [
    "# Gaussian Naive Bayes\n",
    "\n",
    "## Model Selection\n",
    "\n",
    "There is **no hyperparameter** to optimize in the NBC model. \n",
    "\n",
    "However, to resolve the overfitting issue the Bayesian NBC uses smoothing parameters (e.g., var_smoothing in Gaussian NBC) that we need to tune.."
   ]
  },
  {
   "cell_type": "code",
   "execution_count": 8,
   "metadata": {},
   "outputs": [
    {
     "name": "stdout",
     "output_type": "stream",
     "text": [
      "Fitting 3 folds for each of 6 candidates, totalling 18 fits\n",
      "Best Score: 0.932404\n",
      "Optimal Hyperparameter Values:  {'var_smoothing': 1e-09}\n",
      "\n",
      "\n",
      "CPU times: user 32.7 ms, sys: 5 ms, total: 37.7 ms\n",
      "Wall time: 36.8 ms\n"
     ]
    },
    {
     "name": "stderr",
     "output_type": "stream",
     "text": [
      "[Parallel(n_jobs=-1)]: Using backend LokyBackend with 8 concurrent workers.\n",
      "[Parallel(n_jobs=-1)]: Done   3 out of  18 | elapsed:    0.0s remaining:    0.1s\n",
      "[Parallel(n_jobs=-1)]: Done  18 out of  18 | elapsed:    0.0s finished\n"
     ]
    }
   ],
   "source": [
    "%%time\n",
    "\n",
    "\n",
    "\n",
    "param_grid_gnb = {'var_smoothing': [0.000000001, 0.00000001, 0.0000001, 0.000001, 0.00001, 0.0001]}\n",
    "\n",
    "gaussianNB = GaussianNB()\n",
    "\n",
    "gaussianNB_cv = GridSearchCV(gaussianNB, param_grid_gnb, scoring='f1', cv=3, verbose=1, n_jobs=-1)\n",
    "gaussianNB_cv.fit(X_train, y_train)\n",
    "\n",
    "params_optimal_gnb = gaussianNB_cv.best_params_\n",
    "\n",
    "print(\"Best Score: %f\" % gaussianNB_cv.best_score_)\n",
    "print(\"Optimal Hyperparameter Values: \", params_optimal_gnb)\n",
    "print(\"\\n\")"
   ]
  },
  {
   "cell_type": "markdown",
   "metadata": {},
   "source": [
    "## GNB: Select The Best Model"
   ]
  },
  {
   "cell_type": "code",
   "execution_count": 9,
   "metadata": {},
   "outputs": [
    {
     "data": {
      "text/plain": [
       "GaussianNB(priors=None, var_smoothing=1e-09)"
      ]
     },
     "execution_count": 9,
     "metadata": {},
     "output_type": "execute_result"
    }
   ],
   "source": [
    "gaussianNB_clf = GaussianNB(**params_optimal_gnb)\n",
    "\n",
    "gaussianNB_clf.fit(X_train, y_train)  "
   ]
  },
  {
   "cell_type": "markdown",
   "metadata": {},
   "source": [
    "## GNB: Evaluate the Model Using Test Data"
   ]
  },
  {
   "cell_type": "code",
   "execution_count": 10,
   "metadata": {},
   "outputs": [
    {
     "name": "stdout",
     "output_type": "stream",
     "text": [
      "Gaussian NB:\n",
      "\n",
      "Training Accuracy:  0.9333333333333333\n",
      "\n",
      "Test Accuracy:  0.9\n",
      "\n",
      "Text Confusion Matrix:\n",
      "[[57  5]\n",
      " [ 7 51]]\n",
      "\n",
      "Classification Report:\n",
      "              precision    recall  f1-score   support\n",
      "\n",
      "           0       0.89      0.92      0.90        62\n",
      "           1       0.91      0.88      0.89        58\n",
      "\n",
      "    accuracy                           0.90       120\n",
      "   macro avg       0.90      0.90      0.90       120\n",
      "weighted avg       0.90      0.90      0.90       120\n",
      "\n"
     ]
    }
   ],
   "source": [
    "\n",
    "print(\"Gaussian NB:\")\n",
    "\n",
    "\n",
    "y_train_predicted = gaussianNB_clf.predict(X_train)\n",
    "\n",
    "train_accuracy_gnb = np.mean(y_train_predicted == y_train)\n",
    "print(\"\\nTraining Accuracy: \", train_accuracy_gnb)\n",
    "\n",
    "\n",
    "y_test_predicted = gaussianNB_clf.predict(X_test)\n",
    "\n",
    "\n",
    "test_accuracy_gnb = np.mean(y_test_predicted == y_test)\n",
    "print(\"\\nTest Accuracy: \", test_accuracy_gnb)\n",
    "\n",
    "print(\"\\nText Confusion Matrix:\")\n",
    "print(confusion_matrix(y_test, y_test_predicted))\n",
    "\n",
    "\n",
    "print(\"\\nClassification Report:\")\n",
    "print(classification_report(y_test, y_test_predicted))"
   ]
  },
  {
   "cell_type": "markdown",
   "metadata": {
    "collapsed": true
   },
   "source": [
    "# Logistic Regression Model\n",
    "\n",
    "We train a Logistic Regression model and evaluate its performance.\n",
    "\n",
    "For training the Logistic Regression model we don't perform model selection. For this highly non-linear data there is no optimal model for Logistic Regression as it's inherently a linear model. Logistic Regression can classify non-linear data only when data is augmented by projecting the features on a high-dimensioal space."
   ]
  },
  {
   "cell_type": "code",
   "execution_count": 11,
   "metadata": {},
   "outputs": [
    {
     "name": "stdout",
     "output_type": "stream",
     "text": [
      "Logistic Regression:\n",
      "\n",
      "Training Accuracy:  0.5895833333333333\n",
      "\n",
      "Test Accuracy:  0.5916666666666667\n",
      "\n",
      "Test Confusion Matrix:\n",
      "[[28 34]\n",
      " [15 43]]\n",
      "\n",
      "Classification Report:\n",
      "              precision    recall  f1-score   support\n",
      "\n",
      "           0       0.65      0.45      0.53        62\n",
      "           1       0.56      0.74      0.64        58\n",
      "\n",
      "    accuracy                           0.59       120\n",
      "   macro avg       0.60      0.60      0.59       120\n",
      "weighted avg       0.61      0.59      0.58       120\n",
      "\n"
     ]
    }
   ],
   "source": [
    "lg_reg_clf = LogisticRegression()\n",
    "\n",
    "lg_reg_clf.fit(X_train, y_train)\n",
    "\n",
    "\n",
    "y_train_predicted = lg_reg_clf.predict(X_train)\n",
    "#print(y_test_predict)\n",
    "\n",
    "\n",
    "print(\"Logistic Regression:\")\n",
    "\n",
    "train_accuracy_logreg = np.mean(y_train_predicted == y_train)\n",
    "print(\"\\nTraining Accuracy: \", train_accuracy_logreg)\n",
    "\n",
    "\n",
    "y_test_predicted = lg_reg_clf.predict(X_test)\n",
    "\n",
    "\n",
    "test_accuracy_logreg = np.mean(y_test_predicted == y_test)\n",
    "print(\"\\nTest Accuracy: \", test_accuracy_logreg)\n",
    "\n",
    "\n",
    "print(\"\\nTest Confusion Matrix:\")\n",
    "print(confusion_matrix(y_test, y_test_predicted))\n",
    "\n",
    "\n",
    "print(\"\\nClassification Report:\")\n",
    "print(classification_report(y_test, y_test_predicted))"
   ]
  },
  {
   "cell_type": "markdown",
   "metadata": {},
   "source": [
    "## Decision Boundary: K-NN, Gaussian NB vs Logistic Regression"
   ]
  },
  {
   "cell_type": "code",
   "execution_count": 12,
   "metadata": {},
   "outputs": [
    {
     "data": {
      "image/png": "[encoded data removed]",
      "text/plain": [
       "<Figure size 1296x432 with 3 Axes>"
      ]
     },
     "metadata": {},
     "output_type": "display_data"
    }
   ],
   "source": [
    "plt.figure(figsize=(18,6))\n",
    "\n",
    "plt.subplot(131)\n",
    "decision_boundary_class_colored(knn, X, plotDistanceFromHyperplane=False)\n",
    "plt.plot(X[y.ravel()==0, 0], X[y.ravel()==0, 1], \"ro\")\n",
    "plt.plot(X[y.ravel()==1, 0], X[y.ravel()==1, 1], \"yo\")\n",
    "plt.xlabel(\"$x_1$\", fontsize=14)\n",
    "plt.ylabel(\"$x_2$\", fontsize=14)\n",
    "plt.title(\"Decision Boundary: K-NN\\n Train Accuracy: %f \\n Test Accuracy: %f\"% \n",
    "          (train_accuracy_knn, test_accuracy_knn) , fontsize=16)\n",
    "plt.xticks(())\n",
    "plt.yticks(())\n",
    "\n",
    "plt.subplot(132)\n",
    "decision_boundary_class_colored(lg_reg_clf, X, plotDistanceFromHyperplane=False)\n",
    "plt.plot(X[y.ravel()==0, 0], X[y.ravel()==0, 1], \"ro\")\n",
    "plt.plot(X[y.ravel()==1, 0], X[y.ravel()==1, 1], \"yo\")\n",
    "plt.xlabel(\"$x_1$\", fontsize=14)\n",
    "plt.ylabel(\"$x_2$\", fontsize=14)\n",
    "plt.title(\"Decision Boundary: Logistic Regression\\n Train Accuracy: %f \\n Test Accuracy: %f\"% \n",
    "          (train_accuracy_logreg, test_accuracy_logreg) , fontsize=16)\n",
    "plt.xticks(())\n",
    "plt.yticks(())\n",
    "\n",
    "\n",
    "plt.subplot(133)\n",
    "decision_boundary_class_colored(gaussianNB_clf, X, plotDistanceFromHyperplane=False)\n",
    "plt.plot(X[y.ravel()==0, 0], X[y.ravel()==0, 1], \"ro\")\n",
    "plt.plot(X[y.ravel()==1, 0], X[y.ravel()==1, 1], \"yo\")\n",
    "plt.xlabel(\"$x_1$\", fontsize=14)\n",
    "plt.ylabel(\"$x_2$\", fontsize=14)\n",
    "plt.title(\"Decision Boundary: Gaussian NB\\n Train Accuracy: %f \\n Test Accuracy: %f\"% \n",
    "          (train_accuracy_gnb, test_accuracy_gnb) , fontsize=16)\n",
    "plt.xticks(())\n",
    "plt.yticks(())\n",
    "\n",
    "plt.show()"
   ]
  },
  {
   "cell_type": "markdown",
   "metadata": {},
   "source": [
    "## Observation\n",
    "\n",
    "We see that both NBC and K-NN create non-linear decision boundaries while Logistic Regression creates a linear decision boundary.\n",
    "\n",
    "- Logistic Regression is unable to classify non-linear data (test accuracy is $<60\\%$), unless it augments the data. Because it's a **linear model**.\n",
    "\n",
    "- Both NBC and K-NN can successfully classify the data with 90% test accuracy. These two models are able to create such complex decision boundaries because they are **non-linear models**.\n",
    "\n",
    "\n",
    "Please note that NBC makes a **strong assumption** that the features are conditionally independent. However, even if there is some feature dependency the NBC gives the best result. But if there is strong violation of this assumption then NBC will perform poorly (e.g., image classification).\n",
    "\n",
    "There is no hyperparameter to optimize in NBC, which makes it simple and time-efficient.\n",
    "\n",
    "Due to the conditional independence assumption of the features, it is space efficient which can be used for low latency applications.\n",
    "\n",
    "Also it works reasonably well with small data.\n"
   ]
  }
 ],
 "metadata": {
  "anaconda-cloud": {},
  "kernelspec": {
   "display_name": "Python 3",
   "language": "python",
   "name": "python3"
  },
  "language_info": {
   "codemirror_mode": {
    "name": "ipython",
    "version": 3
   },
   "file_extension": ".py",
   "mimetype": "text/x-python",
   "name": "python",
   "nbconvert_exporter": "python",
   "pygments_lexer": "ipython3",
   "version": "3.7.3"
  }
 },
 "nbformat": 4,
 "nbformat_minor": 1
}
